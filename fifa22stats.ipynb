{
 "cells": [
  {
   "cell_type": "code",
   "execution_count": 1,
   "id": "457eaee8",
   "metadata": {},
   "outputs": [],
   "source": [
    "import pandas as pd\n",
    "import openpyxl as op\n",
    "import numpy as np \n",
    "import matplotlib.pyplot as plt\n",
    "import seaborn as sns"
   ]
  },
  {
   "cell_type": "code",
   "execution_count": 2,
   "id": "2e665e0d",
   "metadata": {},
   "outputs": [
    {
     "data": {
      "text/html": [
       "<div>\n",
       "<style scoped>\n",
       "    .dataframe tbody tr th:only-of-type {\n",
       "        vertical-align: middle;\n",
       "    }\n",
       "\n",
       "    .dataframe tbody tr th {\n",
       "        vertical-align: top;\n",
       "    }\n",
       "\n",
       "    .dataframe thead th {\n",
       "        text-align: right;\n",
       "    }\n",
       "</style>\n",
       "<table border=\"1\" class=\"dataframe\">\n",
       "  <thead>\n",
       "    <tr style=\"text-align: right;\">\n",
       "      <th></th>\n",
       "      <th>sofifa_id</th>\n",
       "      <th>player_url</th>\n",
       "      <th>short_name</th>\n",
       "      <th>long_name</th>\n",
       "      <th>player_positions</th>\n",
       "      <th>overall</th>\n",
       "      <th>potential</th>\n",
       "      <th>value_eur</th>\n",
       "      <th>wage_eur</th>\n",
       "      <th>age</th>\n",
       "      <th>...</th>\n",
       "      <th>lcb</th>\n",
       "      <th>cb</th>\n",
       "      <th>rcb</th>\n",
       "      <th>rb</th>\n",
       "      <th>gk</th>\n",
       "      <th>player_face_url</th>\n",
       "      <th>club_logo_url</th>\n",
       "      <th>club_flag_url</th>\n",
       "      <th>nation_logo_url</th>\n",
       "      <th>nation_flag_url</th>\n",
       "    </tr>\n",
       "  </thead>\n",
       "  <tbody>\n",
       "    <tr>\n",
       "      <th>0</th>\n",
       "      <td>158023</td>\n",
       "      <td>https://sofifa.com/player/158023/lionel-messi/...</td>\n",
       "      <td>L. Messi</td>\n",
       "      <td>Lionel Andrés Messi Cuccittini</td>\n",
       "      <td>RW, ST, CF</td>\n",
       "      <td>93</td>\n",
       "      <td>93</td>\n",
       "      <td>78000000.0</td>\n",
       "      <td>320000.0</td>\n",
       "      <td>34</td>\n",
       "      <td>...</td>\n",
       "      <td>50+3</td>\n",
       "      <td>50+3</td>\n",
       "      <td>50+3</td>\n",
       "      <td>61+3</td>\n",
       "      <td>19+3</td>\n",
       "      <td>https://cdn.sofifa.net/players/158/023/22_120.png</td>\n",
       "      <td>https://cdn.sofifa.net/teams/73/60.png</td>\n",
       "      <td>https://cdn.sofifa.net/flags/fr.png</td>\n",
       "      <td>https://cdn.sofifa.net/teams/1369/60.png</td>\n",
       "      <td>https://cdn.sofifa.net/flags/ar.png</td>\n",
       "    </tr>\n",
       "    <tr>\n",
       "      <th>1</th>\n",
       "      <td>188545</td>\n",
       "      <td>https://sofifa.com/player/188545/robert-lewand...</td>\n",
       "      <td>R. Lewandowski</td>\n",
       "      <td>Robert Lewandowski</td>\n",
       "      <td>ST</td>\n",
       "      <td>92</td>\n",
       "      <td>92</td>\n",
       "      <td>119500000.0</td>\n",
       "      <td>270000.0</td>\n",
       "      <td>32</td>\n",
       "      <td>...</td>\n",
       "      <td>60+3</td>\n",
       "      <td>60+3</td>\n",
       "      <td>60+3</td>\n",
       "      <td>61+3</td>\n",
       "      <td>19+3</td>\n",
       "      <td>https://cdn.sofifa.net/players/188/545/22_120.png</td>\n",
       "      <td>https://cdn.sofifa.net/teams/21/60.png</td>\n",
       "      <td>https://cdn.sofifa.net/flags/de.png</td>\n",
       "      <td>https://cdn.sofifa.net/teams/1353/60.png</td>\n",
       "      <td>https://cdn.sofifa.net/flags/pl.png</td>\n",
       "    </tr>\n",
       "    <tr>\n",
       "      <th>2</th>\n",
       "      <td>20801</td>\n",
       "      <td>https://sofifa.com/player/20801/c-ronaldo-dos-...</td>\n",
       "      <td>Cristiano Ronaldo</td>\n",
       "      <td>Cristiano Ronaldo dos Santos Aveiro</td>\n",
       "      <td>ST, LW</td>\n",
       "      <td>91</td>\n",
       "      <td>91</td>\n",
       "      <td>45000000.0</td>\n",
       "      <td>270000.0</td>\n",
       "      <td>36</td>\n",
       "      <td>...</td>\n",
       "      <td>53+3</td>\n",
       "      <td>53+3</td>\n",
       "      <td>53+3</td>\n",
       "      <td>60+3</td>\n",
       "      <td>20+3</td>\n",
       "      <td>https://cdn.sofifa.net/players/020/801/22_120.png</td>\n",
       "      <td>https://cdn.sofifa.net/teams/11/60.png</td>\n",
       "      <td>https://cdn.sofifa.net/flags/gb-eng.png</td>\n",
       "      <td>https://cdn.sofifa.net/teams/1354/60.png</td>\n",
       "      <td>https://cdn.sofifa.net/flags/pt.png</td>\n",
       "    </tr>\n",
       "    <tr>\n",
       "      <th>3</th>\n",
       "      <td>190871</td>\n",
       "      <td>https://sofifa.com/player/190871/neymar-da-sil...</td>\n",
       "      <td>Neymar Jr</td>\n",
       "      <td>Neymar da Silva Santos Júnior</td>\n",
       "      <td>LW, CAM</td>\n",
       "      <td>91</td>\n",
       "      <td>91</td>\n",
       "      <td>129000000.0</td>\n",
       "      <td>270000.0</td>\n",
       "      <td>29</td>\n",
       "      <td>...</td>\n",
       "      <td>50+3</td>\n",
       "      <td>50+3</td>\n",
       "      <td>50+3</td>\n",
       "      <td>62+3</td>\n",
       "      <td>20+3</td>\n",
       "      <td>https://cdn.sofifa.net/players/190/871/22_120.png</td>\n",
       "      <td>https://cdn.sofifa.net/teams/73/60.png</td>\n",
       "      <td>https://cdn.sofifa.net/flags/fr.png</td>\n",
       "      <td>NaN</td>\n",
       "      <td>https://cdn.sofifa.net/flags/br.png</td>\n",
       "    </tr>\n",
       "    <tr>\n",
       "      <th>4</th>\n",
       "      <td>192985</td>\n",
       "      <td>https://sofifa.com/player/192985/kevin-de-bruy...</td>\n",
       "      <td>K. De Bruyne</td>\n",
       "      <td>Kevin De Bruyne</td>\n",
       "      <td>CM, CAM</td>\n",
       "      <td>91</td>\n",
       "      <td>91</td>\n",
       "      <td>125500000.0</td>\n",
       "      <td>350000.0</td>\n",
       "      <td>30</td>\n",
       "      <td>...</td>\n",
       "      <td>69+3</td>\n",
       "      <td>69+3</td>\n",
       "      <td>69+3</td>\n",
       "      <td>75+3</td>\n",
       "      <td>21+3</td>\n",
       "      <td>https://cdn.sofifa.net/players/192/985/22_120.png</td>\n",
       "      <td>https://cdn.sofifa.net/teams/10/60.png</td>\n",
       "      <td>https://cdn.sofifa.net/flags/gb-eng.png</td>\n",
       "      <td>https://cdn.sofifa.net/teams/1325/60.png</td>\n",
       "      <td>https://cdn.sofifa.net/flags/be.png</td>\n",
       "    </tr>\n",
       "  </tbody>\n",
       "</table>\n",
       "<p>5 rows × 110 columns</p>\n",
       "</div>"
      ],
      "text/plain": [
       "   sofifa_id                                         player_url  \\\n",
       "0     158023  https://sofifa.com/player/158023/lionel-messi/...   \n",
       "1     188545  https://sofifa.com/player/188545/robert-lewand...   \n",
       "2      20801  https://sofifa.com/player/20801/c-ronaldo-dos-...   \n",
       "3     190871  https://sofifa.com/player/190871/neymar-da-sil...   \n",
       "4     192985  https://sofifa.com/player/192985/kevin-de-bruy...   \n",
       "\n",
       "          short_name                            long_name player_positions  \\\n",
       "0           L. Messi       Lionel Andrés Messi Cuccittini       RW, ST, CF   \n",
       "1     R. Lewandowski                   Robert Lewandowski               ST   \n",
       "2  Cristiano Ronaldo  Cristiano Ronaldo dos Santos Aveiro           ST, LW   \n",
       "3          Neymar Jr        Neymar da Silva Santos Júnior          LW, CAM   \n",
       "4       K. De Bruyne                      Kevin De Bruyne          CM, CAM   \n",
       "\n",
       "   overall  potential    value_eur  wage_eur  age  ...   lcb    cb   rcb  \\\n",
       "0       93         93   78000000.0  320000.0   34  ...  50+3  50+3  50+3   \n",
       "1       92         92  119500000.0  270000.0   32  ...  60+3  60+3  60+3   \n",
       "2       91         91   45000000.0  270000.0   36  ...  53+3  53+3  53+3   \n",
       "3       91         91  129000000.0  270000.0   29  ...  50+3  50+3  50+3   \n",
       "4       91         91  125500000.0  350000.0   30  ...  69+3  69+3  69+3   \n",
       "\n",
       "     rb    gk                                    player_face_url  \\\n",
       "0  61+3  19+3  https://cdn.sofifa.net/players/158/023/22_120.png   \n",
       "1  61+3  19+3  https://cdn.sofifa.net/players/188/545/22_120.png   \n",
       "2  60+3  20+3  https://cdn.sofifa.net/players/020/801/22_120.png   \n",
       "3  62+3  20+3  https://cdn.sofifa.net/players/190/871/22_120.png   \n",
       "4  75+3  21+3  https://cdn.sofifa.net/players/192/985/22_120.png   \n",
       "\n",
       "                            club_logo_url  \\\n",
       "0  https://cdn.sofifa.net/teams/73/60.png   \n",
       "1  https://cdn.sofifa.net/teams/21/60.png   \n",
       "2  https://cdn.sofifa.net/teams/11/60.png   \n",
       "3  https://cdn.sofifa.net/teams/73/60.png   \n",
       "4  https://cdn.sofifa.net/teams/10/60.png   \n",
       "\n",
       "                             club_flag_url  \\\n",
       "0      https://cdn.sofifa.net/flags/fr.png   \n",
       "1      https://cdn.sofifa.net/flags/de.png   \n",
       "2  https://cdn.sofifa.net/flags/gb-eng.png   \n",
       "3      https://cdn.sofifa.net/flags/fr.png   \n",
       "4  https://cdn.sofifa.net/flags/gb-eng.png   \n",
       "\n",
       "                            nation_logo_url  \\\n",
       "0  https://cdn.sofifa.net/teams/1369/60.png   \n",
       "1  https://cdn.sofifa.net/teams/1353/60.png   \n",
       "2  https://cdn.sofifa.net/teams/1354/60.png   \n",
       "3                                       NaN   \n",
       "4  https://cdn.sofifa.net/teams/1325/60.png   \n",
       "\n",
       "                       nation_flag_url  \n",
       "0  https://cdn.sofifa.net/flags/ar.png  \n",
       "1  https://cdn.sofifa.net/flags/pl.png  \n",
       "2  https://cdn.sofifa.net/flags/pt.png  \n",
       "3  https://cdn.sofifa.net/flags/br.png  \n",
       "4  https://cdn.sofifa.net/flags/be.png  \n",
       "\n",
       "[5 rows x 110 columns]"
      ]
     },
     "execution_count": 2,
     "metadata": {},
     "output_type": "execute_result"
    }
   ],
   "source": [
    "df = pd.read_excel('fifa22.xlsx')\n",
    "df.head()"
   ]
  },
  {
   "cell_type": "code",
   "execution_count": 3,
   "id": "77e888ff",
   "metadata": {},
   "outputs": [],
   "source": [
    "df= df.drop(columns=['nation_jersey_number','club_loaned_from','player_tags','sofifa_id','club_contract_valid_until','club_jersey_number','player_url','player_face_url', 'club_logo_url',\n",
    "       'club_flag_url', 'nation_logo_url', 'nation_flag_url'])"
   ]
  },
  {
   "cell_type": "code",
   "execution_count": 4,
   "id": "b6608b19",
   "metadata": {},
   "outputs": [
    {
     "data": {
      "text/plain": [
       "Index(['short_name', 'long_name', 'player_positions', 'overall', 'potential',\n",
       "       'value_eur', 'wage_eur', 'age', 'dob', 'height_cm', 'weight_kg',\n",
       "       'club_team_id', 'club_name', 'league_name', 'league_level',\n",
       "       'club_position', 'club_joined', 'nationality_id', 'nationality_name',\n",
       "       'nation_team_id', 'nation_position', 'preferred_foot', 'weak_foot',\n",
       "       'skill_moves', 'international_reputation', 'work_rate', 'body_type',\n",
       "       'real_face', 'release_clause_eur', 'player_traits', 'pace', 'shooting',\n",
       "       'passing', 'dribbling', 'defending', 'physic', 'attacking_crossing',\n",
       "       'attacking_finishing', 'attacking_heading_accuracy',\n",
       "       'attacking_short_passing', 'attacking_volleys', 'skill_dribbling',\n",
       "       'skill_curve', 'skill_fk_accuracy', 'skill_long_passing',\n",
       "       'skill_ball_control', 'movement_acceleration', 'movement_sprint_speed',\n",
       "       'movement_agility', 'movement_reactions', 'movement_balance',\n",
       "       'power_shot_power', 'power_jumping', 'power_stamina', 'power_strength',\n",
       "       'power_long_shots', 'mentality_aggression', 'mentality_interceptions',\n",
       "       'mentality_positioning', 'mentality_vision', 'mentality_penalties',\n",
       "       'mentality_composure', 'defending_marking_awareness',\n",
       "       'defending_standing_tackle', 'defending_sliding_tackle',\n",
       "       'goalkeeping_diving', 'goalkeeping_handling', 'goalkeeping_kicking',\n",
       "       'goalkeeping_positioning', 'goalkeeping_reflexes', 'goalkeeping_speed',\n",
       "       'ls', 'st', 'rs', 'lw', 'lf', 'cf', 'rf', 'rw', 'lam', 'cam', 'ram',\n",
       "       'lm', 'lcm', 'cm', 'rcm', 'rm', 'lwb', 'ldm', 'cdm', 'rdm', 'rwb', 'lb',\n",
       "       'lcb', 'cb', 'rcb', 'rb', 'gk'],\n",
       "      dtype='object')"
      ]
     },
     "execution_count": 4,
     "metadata": {},
     "output_type": "execute_result"
    }
   ],
   "source": [
    "df.columns"
   ]
  },
  {
   "cell_type": "code",
   "execution_count": 5,
   "id": "ef853606",
   "metadata": {},
   "outputs": [
    {
     "data": {
      "text/html": [
       "<div>\n",
       "<style scoped>\n",
       "    .dataframe tbody tr th:only-of-type {\n",
       "        vertical-align: middle;\n",
       "    }\n",
       "\n",
       "    .dataframe tbody tr th {\n",
       "        vertical-align: top;\n",
       "    }\n",
       "\n",
       "    .dataframe thead th {\n",
       "        text-align: right;\n",
       "    }\n",
       "</style>\n",
       "<table border=\"1\" class=\"dataframe\">\n",
       "  <thead>\n",
       "    <tr style=\"text-align: right;\">\n",
       "      <th></th>\n",
       "      <th>short_name</th>\n",
       "      <th>long_name</th>\n",
       "      <th>player_positions</th>\n",
       "      <th>overall</th>\n",
       "      <th>potential</th>\n",
       "      <th>value_eur</th>\n",
       "      <th>wage_eur</th>\n",
       "      <th>age</th>\n",
       "      <th>dob</th>\n",
       "      <th>height_cm</th>\n",
       "      <th>...</th>\n",
       "      <th>ldm</th>\n",
       "      <th>cdm</th>\n",
       "      <th>rdm</th>\n",
       "      <th>rwb</th>\n",
       "      <th>lb</th>\n",
       "      <th>lcb</th>\n",
       "      <th>cb</th>\n",
       "      <th>rcb</th>\n",
       "      <th>rb</th>\n",
       "      <th>gk</th>\n",
       "    </tr>\n",
       "  </thead>\n",
       "  <tbody>\n",
       "    <tr>\n",
       "      <th>0</th>\n",
       "      <td>L. Messi</td>\n",
       "      <td>Lionel Andrés Messi Cuccittini</td>\n",
       "      <td>RW, ST, CF</td>\n",
       "      <td>93</td>\n",
       "      <td>93</td>\n",
       "      <td>78000000.0</td>\n",
       "      <td>320000.0</td>\n",
       "      <td>34</td>\n",
       "      <td>1987-06-24</td>\n",
       "      <td>170</td>\n",
       "      <td>...</td>\n",
       "      <td>64+3</td>\n",
       "      <td>64+3</td>\n",
       "      <td>64+3</td>\n",
       "      <td>66+3</td>\n",
       "      <td>61+3</td>\n",
       "      <td>50+3</td>\n",
       "      <td>50+3</td>\n",
       "      <td>50+3</td>\n",
       "      <td>61+3</td>\n",
       "      <td>19+3</td>\n",
       "    </tr>\n",
       "    <tr>\n",
       "      <th>1</th>\n",
       "      <td>R. Lewandowski</td>\n",
       "      <td>Robert Lewandowski</td>\n",
       "      <td>ST</td>\n",
       "      <td>92</td>\n",
       "      <td>92</td>\n",
       "      <td>119500000.0</td>\n",
       "      <td>270000.0</td>\n",
       "      <td>32</td>\n",
       "      <td>1988-08-21</td>\n",
       "      <td>185</td>\n",
       "      <td>...</td>\n",
       "      <td>66+3</td>\n",
       "      <td>66+3</td>\n",
       "      <td>66+3</td>\n",
       "      <td>64+3</td>\n",
       "      <td>61+3</td>\n",
       "      <td>60+3</td>\n",
       "      <td>60+3</td>\n",
       "      <td>60+3</td>\n",
       "      <td>61+3</td>\n",
       "      <td>19+3</td>\n",
       "    </tr>\n",
       "    <tr>\n",
       "      <th>2</th>\n",
       "      <td>Cristiano Ronaldo</td>\n",
       "      <td>Cristiano Ronaldo dos Santos Aveiro</td>\n",
       "      <td>ST, LW</td>\n",
       "      <td>91</td>\n",
       "      <td>91</td>\n",
       "      <td>45000000.0</td>\n",
       "      <td>270000.0</td>\n",
       "      <td>36</td>\n",
       "      <td>1985-02-05</td>\n",
       "      <td>187</td>\n",
       "      <td>...</td>\n",
       "      <td>59+3</td>\n",
       "      <td>59+3</td>\n",
       "      <td>59+3</td>\n",
       "      <td>63+3</td>\n",
       "      <td>60+3</td>\n",
       "      <td>53+3</td>\n",
       "      <td>53+3</td>\n",
       "      <td>53+3</td>\n",
       "      <td>60+3</td>\n",
       "      <td>20+3</td>\n",
       "    </tr>\n",
       "    <tr>\n",
       "      <th>3</th>\n",
       "      <td>Neymar Jr</td>\n",
       "      <td>Neymar da Silva Santos Júnior</td>\n",
       "      <td>LW, CAM</td>\n",
       "      <td>91</td>\n",
       "      <td>91</td>\n",
       "      <td>129000000.0</td>\n",
       "      <td>270000.0</td>\n",
       "      <td>29</td>\n",
       "      <td>1992-02-05</td>\n",
       "      <td>175</td>\n",
       "      <td>...</td>\n",
       "      <td>63+3</td>\n",
       "      <td>63+3</td>\n",
       "      <td>63+3</td>\n",
       "      <td>67+3</td>\n",
       "      <td>62+3</td>\n",
       "      <td>50+3</td>\n",
       "      <td>50+3</td>\n",
       "      <td>50+3</td>\n",
       "      <td>62+3</td>\n",
       "      <td>20+3</td>\n",
       "    </tr>\n",
       "    <tr>\n",
       "      <th>4</th>\n",
       "      <td>K. De Bruyne</td>\n",
       "      <td>Kevin De Bruyne</td>\n",
       "      <td>CM, CAM</td>\n",
       "      <td>91</td>\n",
       "      <td>91</td>\n",
       "      <td>125500000.0</td>\n",
       "      <td>350000.0</td>\n",
       "      <td>30</td>\n",
       "      <td>1991-06-28</td>\n",
       "      <td>181</td>\n",
       "      <td>...</td>\n",
       "      <td>80+3</td>\n",
       "      <td>80+3</td>\n",
       "      <td>80+3</td>\n",
       "      <td>79+3</td>\n",
       "      <td>75+3</td>\n",
       "      <td>69+3</td>\n",
       "      <td>69+3</td>\n",
       "      <td>69+3</td>\n",
       "      <td>75+3</td>\n",
       "      <td>21+3</td>\n",
       "    </tr>\n",
       "  </tbody>\n",
       "</table>\n",
       "<p>5 rows × 98 columns</p>\n",
       "</div>"
      ],
      "text/plain": [
       "          short_name                            long_name player_positions  \\\n",
       "0           L. Messi       Lionel Andrés Messi Cuccittini       RW, ST, CF   \n",
       "1     R. Lewandowski                   Robert Lewandowski               ST   \n",
       "2  Cristiano Ronaldo  Cristiano Ronaldo dos Santos Aveiro           ST, LW   \n",
       "3          Neymar Jr        Neymar da Silva Santos Júnior          LW, CAM   \n",
       "4       K. De Bruyne                      Kevin De Bruyne          CM, CAM   \n",
       "\n",
       "   overall  potential    value_eur  wage_eur  age        dob  height_cm  ...  \\\n",
       "0       93         93   78000000.0  320000.0   34 1987-06-24        170  ...   \n",
       "1       92         92  119500000.0  270000.0   32 1988-08-21        185  ...   \n",
       "2       91         91   45000000.0  270000.0   36 1985-02-05        187  ...   \n",
       "3       91         91  129000000.0  270000.0   29 1992-02-05        175  ...   \n",
       "4       91         91  125500000.0  350000.0   30 1991-06-28        181  ...   \n",
       "\n",
       "    ldm   cdm   rdm   rwb    lb   lcb    cb   rcb    rb    gk  \n",
       "0  64+3  64+3  64+3  66+3  61+3  50+3  50+3  50+3  61+3  19+3  \n",
       "1  66+3  66+3  66+3  64+3  61+3  60+3  60+3  60+3  61+3  19+3  \n",
       "2  59+3  59+3  59+3  63+3  60+3  53+3  53+3  53+3  60+3  20+3  \n",
       "3  63+3  63+3  63+3  67+3  62+3  50+3  50+3  50+3  62+3  20+3  \n",
       "4  80+3  80+3  80+3  79+3  75+3  69+3  69+3  69+3  75+3  21+3  \n",
       "\n",
       "[5 rows x 98 columns]"
      ]
     },
     "execution_count": 5,
     "metadata": {},
     "output_type": "execute_result"
    }
   ],
   "source": [
    "df.head()"
   ]
  },
  {
   "cell_type": "code",
   "execution_count": 7,
   "id": "4cb0a6ee",
   "metadata": {},
   "outputs": [
    {
     "data": {
      "text/plain": [
       "short_name          0\n",
       "long_name           0\n",
       "player_positions    0\n",
       "overall             0\n",
       "potential           0\n",
       "                   ..\n",
       "lcb                 0\n",
       "cb                  0\n",
       "rcb                 0\n",
       "rb                  0\n",
       "gk                  0\n",
       "Length: 98, dtype: int64"
      ]
     },
     "execution_count": 7,
     "metadata": {},
     "output_type": "execute_result"
    }
   ],
   "source": [
    "df.isnull().sum()"
   ]
  },
  {
   "cell_type": "code",
   "execution_count": 8,
   "id": "57b8ddd9",
   "metadata": {
    "scrolled": true
   },
   "outputs": [
    {
     "data": {
      "text/plain": [
       "Index(['short_name', 'long_name', 'player_positions', 'overall', 'potential',\n",
       "       'value_eur', 'wage_eur', 'age', 'dob', 'height_cm', 'weight_kg',\n",
       "       'club_team_id', 'club_name', 'league_name', 'league_level',\n",
       "       'club_position', 'club_joined', 'nationality_id', 'nationality_name',\n",
       "       'nation_team_id', 'nation_position', 'preferred_foot', 'weak_foot',\n",
       "       'skill_moves', 'international_reputation', 'work_rate', 'body_type',\n",
       "       'real_face', 'release_clause_eur', 'player_traits', 'pace', 'shooting',\n",
       "       'passing', 'dribbling', 'defending', 'physic', 'attacking_crossing',\n",
       "       'attacking_finishing', 'attacking_heading_accuracy',\n",
       "       'attacking_short_passing', 'attacking_volleys', 'skill_dribbling',\n",
       "       'skill_curve', 'skill_fk_accuracy', 'skill_long_passing',\n",
       "       'skill_ball_control', 'movement_acceleration', 'movement_sprint_speed',\n",
       "       'movement_agility', 'movement_reactions', 'movement_balance',\n",
       "       'power_shot_power', 'power_jumping', 'power_stamina', 'power_strength',\n",
       "       'power_long_shots', 'mentality_aggression', 'mentality_interceptions',\n",
       "       'mentality_positioning', 'mentality_vision', 'mentality_penalties',\n",
       "       'mentality_composure', 'defending_marking_awareness',\n",
       "       'defending_standing_tackle', 'defending_sliding_tackle',\n",
       "       'goalkeeping_diving', 'goalkeeping_handling', 'goalkeeping_kicking',\n",
       "       'goalkeeping_positioning', 'goalkeeping_reflexes', 'goalkeeping_speed',\n",
       "       'ls', 'st', 'rs', 'lw', 'lf', 'cf', 'rf', 'rw', 'lam', 'cam', 'ram',\n",
       "       'lm', 'lcm', 'cm', 'rcm', 'rm', 'lwb', 'ldm', 'cdm', 'rdm', 'rwb', 'lb',\n",
       "       'lcb', 'cb', 'rcb', 'rb', 'gk'],\n",
       "      dtype='object')"
      ]
     },
     "execution_count": 8,
     "metadata": {},
     "output_type": "execute_result"
    }
   ],
   "source": [
    "df.columns"
   ]
  },
  {
   "cell_type": "code",
   "execution_count": 11,
   "id": "f872e8c0",
   "metadata": {},
   "outputs": [
    {
     "data": {
      "text/plain": [
       "(19239, 98)"
      ]
     },
     "execution_count": 11,
     "metadata": {},
     "output_type": "execute_result"
    }
   ],
   "source": [
    "df.shape"
   ]
  },
  {
   "cell_type": "code",
   "execution_count": 12,
   "id": "4090498b",
   "metadata": {},
   "outputs": [
    {
     "name": "stdout",
     "output_type": "stream",
     "text": [
      "<class 'pandas.core.frame.DataFrame'>\n",
      "RangeIndex: 19239 entries, 0 to 19238\n",
      "Data columns (total 98 columns):\n",
      " #   Column                       Non-Null Count  Dtype         \n",
      "---  ------                       --------------  -----         \n",
      " 0   short_name                   19239 non-null  object        \n",
      " 1   long_name                    19239 non-null  object        \n",
      " 2   player_positions             19239 non-null  object        \n",
      " 3   overall                      19239 non-null  int64         \n",
      " 4   potential                    19239 non-null  int64         \n",
      " 5   value_eur                    19165 non-null  float64       \n",
      " 6   wage_eur                     19178 non-null  float64       \n",
      " 7   age                          19239 non-null  int64         \n",
      " 8   dob                          19239 non-null  datetime64[ns]\n",
      " 9   height_cm                    19239 non-null  int64         \n",
      " 10  weight_kg                    19239 non-null  int64         \n",
      " 11  club_team_id                 19178 non-null  float64       \n",
      " 12  club_name                    19178 non-null  object        \n",
      " 13  league_name                  19178 non-null  object        \n",
      " 14  league_level                 19178 non-null  float64       \n",
      " 15  club_position                19178 non-null  object        \n",
      " 16  club_joined                  18076 non-null  datetime64[ns]\n",
      " 17  nationality_id               19239 non-null  int64         \n",
      " 18  nationality_name             19239 non-null  object        \n",
      " 19  nation_team_id               759 non-null    float64       \n",
      " 20  nation_position              759 non-null    object        \n",
      " 21  preferred_foot               19239 non-null  object        \n",
      " 22  weak_foot                    19239 non-null  int64         \n",
      " 23  skill_moves                  19239 non-null  int64         \n",
      " 24  international_reputation     19239 non-null  int64         \n",
      " 25  work_rate                    19239 non-null  object        \n",
      " 26  body_type                    19239 non-null  object        \n",
      " 27  real_face                    19239 non-null  object        \n",
      " 28  release_clause_eur           18063 non-null  float64       \n",
      " 29  player_traits                9398 non-null   object        \n",
      " 30  pace                         17107 non-null  float64       \n",
      " 31  shooting                     17107 non-null  float64       \n",
      " 32  passing                      17107 non-null  float64       \n",
      " 33  dribbling                    17107 non-null  float64       \n",
      " 34  defending                    17107 non-null  float64       \n",
      " 35  physic                       17107 non-null  float64       \n",
      " 36  attacking_crossing           19239 non-null  int64         \n",
      " 37  attacking_finishing          19239 non-null  int64         \n",
      " 38  attacking_heading_accuracy   19239 non-null  int64         \n",
      " 39  attacking_short_passing      19239 non-null  int64         \n",
      " 40  attacking_volleys            19239 non-null  int64         \n",
      " 41  skill_dribbling              19239 non-null  int64         \n",
      " 42  skill_curve                  19239 non-null  int64         \n",
      " 43  skill_fk_accuracy            19239 non-null  int64         \n",
      " 44  skill_long_passing           19239 non-null  int64         \n",
      " 45  skill_ball_control           19239 non-null  int64         \n",
      " 46  movement_acceleration        19239 non-null  int64         \n",
      " 47  movement_sprint_speed        19239 non-null  int64         \n",
      " 48  movement_agility             19239 non-null  int64         \n",
      " 49  movement_reactions           19239 non-null  int64         \n",
      " 50  movement_balance             19239 non-null  int64         \n",
      " 51  power_shot_power             19239 non-null  int64         \n",
      " 52  power_jumping                19239 non-null  int64         \n",
      " 53  power_stamina                19239 non-null  int64         \n",
      " 54  power_strength               19239 non-null  int64         \n",
      " 55  power_long_shots             19239 non-null  int64         \n",
      " 56  mentality_aggression         19239 non-null  int64         \n",
      " 57  mentality_interceptions      19239 non-null  int64         \n",
      " 58  mentality_positioning        19239 non-null  int64         \n",
      " 59  mentality_vision             19239 non-null  int64         \n",
      " 60  mentality_penalties          19239 non-null  int64         \n",
      " 61  mentality_composure          19239 non-null  int64         \n",
      " 62  defending_marking_awareness  19239 non-null  int64         \n",
      " 63  defending_standing_tackle    19239 non-null  int64         \n",
      " 64  defending_sliding_tackle     19239 non-null  int64         \n",
      " 65  goalkeeping_diving           19239 non-null  int64         \n",
      " 66  goalkeeping_handling         19239 non-null  int64         \n",
      " 67  goalkeeping_kicking          19239 non-null  int64         \n",
      " 68  goalkeeping_positioning      19239 non-null  int64         \n",
      " 69  goalkeeping_reflexes         19239 non-null  int64         \n",
      " 70  goalkeeping_speed            2132 non-null   float64       \n",
      " 71  ls                           19239 non-null  object        \n",
      " 72  st                           19239 non-null  object        \n",
      " 73  rs                           19239 non-null  object        \n",
      " 74  lw                           18913 non-null  float64       \n",
      " 75  lf                           19239 non-null  object        \n",
      " 76  cf                           19239 non-null  object        \n",
      " 77  rf                           19239 non-null  object        \n",
      " 78  rw                           18913 non-null  float64       \n",
      " 79  lam                          19239 non-null  object        \n",
      " 80  cam                          19239 non-null  object        \n",
      " 81  ram                          19239 non-null  object        \n",
      " 82  lm                           19239 non-null  object        \n",
      " 83  lcm                          19239 non-null  object        \n",
      " 84  cm                           19239 non-null  object        \n",
      " 85  rcm                          19239 non-null  object        \n",
      " 86  rm                           19239 non-null  object        \n",
      " 87  lwb                          19239 non-null  object        \n",
      " 88  ldm                          19239 non-null  object        \n",
      " 89  cdm                          19239 non-null  object        \n",
      " 90  rdm                          19239 non-null  object        \n",
      " 91  rwb                          19239 non-null  object        \n",
      " 92  lb                           19239 non-null  object        \n",
      " 93  lcb                          19239 non-null  object        \n",
      " 94  cb                           19239 non-null  object        \n",
      " 95  rcb                          19239 non-null  object        \n",
      " 96  rb                           19239 non-null  object        \n",
      " 97  gk                           19239 non-null  object        \n",
      "dtypes: datetime64[ns](2), float64(15), int64(43), object(38)\n",
      "memory usage: 14.4+ MB\n"
     ]
    }
   ],
   "source": [
    "df.info()"
   ]
  },
  {
   "cell_type": "code",
   "execution_count": 13,
   "id": "dfa2c785",
   "metadata": {},
   "outputs": [
    {
     "name": "stdout",
     "output_type": "stream",
     "text": [
      "0\n"
     ]
    }
   ],
   "source": [
    "duplicates=df.duplicated().sum()\n",
    "print(duplicates)"
   ]
  },
  {
   "cell_type": "code",
   "execution_count": 14,
   "id": "b0e81fc6",
   "metadata": {},
   "outputs": [
    {
     "data": {
      "text/plain": [
       "<bound method NDFrame.describe of                short_name                            long_name  \\\n",
       "0                L. Messi       Lionel Andrés Messi Cuccittini   \n",
       "1          R. Lewandowski                   Robert Lewandowski   \n",
       "2       Cristiano Ronaldo  Cristiano Ronaldo dos Santos Aveiro   \n",
       "3               Neymar Jr        Neymar da Silva Santos Júnior   \n",
       "4            K. De Bruyne                      Kevin De Bruyne   \n",
       "...                   ...                                  ...   \n",
       "19234           Song Defu                                  宋德福   \n",
       "19235           C. Porter                      Caoimhin Porter   \n",
       "19236            N. Logue              Nathan Logue-Cunningham   \n",
       "19237           L. Rudden                          Luke Rudden   \n",
       "19238  E. Lalchhanchhuaha              Emanuel Lalchhanchhuaha   \n",
       "\n",
       "      player_positions  overall  potential    value_eur  wage_eur  age  \\\n",
       "0           RW, ST, CF       93         93   78000000.0  320000.0   34   \n",
       "1                   ST       92         92  119500000.0  270000.0   32   \n",
       "2               ST, LW       91         91   45000000.0  270000.0   36   \n",
       "3              LW, CAM       91         91  129000000.0  270000.0   29   \n",
       "4              CM, CAM       91         91  125500000.0  350000.0   30   \n",
       "...                ...      ...        ...          ...       ...  ...   \n",
       "19234              CDM       47         52      70000.0    1000.0   22   \n",
       "19235               CM       47         59     110000.0     500.0   19   \n",
       "19236               CM       47         55     100000.0     500.0   21   \n",
       "19237               ST       47         60     110000.0     500.0   19   \n",
       "19238              CAM       47         60     110000.0     500.0   19   \n",
       "\n",
       "             dob  height_cm  ...   ldm   cdm   rdm   rwb    lb   lcb    cb  \\\n",
       "0     1987-06-24        170  ...  64+3  64+3  64+3  66+3  61+3  50+3  50+3   \n",
       "1     1988-08-21        185  ...  66+3  66+3  66+3  64+3  61+3  60+3  60+3   \n",
       "2     1985-02-05        187  ...  59+3  59+3  59+3  63+3  60+3  53+3  53+3   \n",
       "3     1992-02-05        175  ...  63+3  63+3  63+3  67+3  62+3  50+3  50+3   \n",
       "4     1991-06-28        181  ...  80+3  80+3  80+3  79+3  75+3  69+3  69+3   \n",
       "...          ...        ...  ...   ...   ...   ...   ...   ...   ...   ...   \n",
       "19234 1999-01-02        180  ...  46+2  46+2  46+2  48+2  48+2  46+2  46+2   \n",
       "19235 2002-03-18        175  ...  46+2  46+2  46+2  49+2  48+2  44+2  44+2   \n",
       "19236 2000-02-07        178  ...  46+2  46+2  46+2  47+2  47+2  45+2  45+2   \n",
       "19237 2002-04-23        173  ...  29+2  29+2  29+2  33+2  32+2  26+2  26+2   \n",
       "19238 2002-02-06        167  ...  44+2  44+2  44+2  45+2  45+2  41+2  41+2   \n",
       "\n",
       "        rcb    rb    gk  \n",
       "0      50+3  61+3  19+3  \n",
       "1      60+3  61+3  19+3  \n",
       "2      53+3  60+3  20+3  \n",
       "3      50+3  62+3  20+3  \n",
       "4      69+3  75+3  21+3  \n",
       "...     ...   ...   ...  \n",
       "19234  46+2  48+2  15+2  \n",
       "19235  44+2  48+2  14+2  \n",
       "19236  45+2  47+2  12+2  \n",
       "19237  26+2  32+2  15+2  \n",
       "19238  41+2  45+2  16+2  \n",
       "\n",
       "[19239 rows x 98 columns]>"
      ]
     },
     "execution_count": 14,
     "metadata": {},
     "output_type": "execute_result"
    }
   ],
   "source": [
    "df.describe"
   ]
  },
  {
   "cell_type": "code",
   "execution_count": 9,
   "id": "2307cc41",
   "metadata": {},
   "outputs": [
    {
     "data": {
      "image/png": "[encoded data removed]",
      "text/plain": [
       "<Figure size 1000x500 with 1 Axes>"
      ]
     },
     "metadata": {},
     "output_type": "display_data"
    }
   ],
   "source": [
    "mean_rating = df['overall'].mean()\n",
    "plt.figure(figsize=(10, 5))\n",
    "sns.histplot(df['overall'], bins=30, kde=True, color='skyblue')\n",
    "\n",
    "# Add a vertical line for the mean\n",
    "plt.axvline(mean_rating, color='red', linestyle='dashed', linewidth=2, label=f'Mean: {mean_rating:.2f}')\n",
    "\n",
    "# Labels and Title\n",
    "plt.xlabel('Player Rating')\n",
    "plt.ylabel('Frequency')\n",
    "plt.title('Distribution of Player Ratings with Mean')\n",
    "plt.legend()\n",
    "\n",
    "# Show the plot\n",
    "plt.show()"
   ]
  },
  {
   "cell_type": "code",
   "execution_count": 20,
   "id": "80cccaed",
   "metadata": {},
   "outputs": [
    {
     "name": "stdout",
     "output_type": "stream",
     "text": [
      "66.0\n"
     ]
    },
    {
     "data": {
      "text/plain": [
       "<matplotlib.lines.Line2D at 0x289374d8808>"
      ]
     },
     "execution_count": 20,
     "metadata": {},
     "output_type": "execute_result"
    },
    {
     "data": {
      "image/png": "[encoded data removed]",
      "text/plain": [
       "<Figure size 640x480 with 1 Axes>"
      ]
     },
     "metadata": {},
     "output_type": "display_data"
    }
   ],
   "source": [
    "median_rating = df['overall'].median()\n",
    "print(median_rating)\n",
    "\n",
    "sns.histplot(df['overall'], bins=30, kde=True, color='skyblue')\n",
    "plt.axvline(median_rating, color='green', linestyle='dashed', linewidth=2, label=f'Median: {median_rating:.2f}')\n"
   ]
  },
  {
   "cell_type": "code",
   "execution_count": 23,
   "id": "66e8674d",
   "metadata": {},
   "outputs": [
    {
     "data": {
      "text/plain": [
       "<matplotlib.legend.Legend at 0x28938691a88>"
      ]
     },
     "execution_count": 23,
     "metadata": {},
     "output_type": "execute_result"
    },
    {
     "data": {
      "image/png": "[encoded data removed]",
      "text/plain": [
       "<Figure size 1000x500 with 1 Axes>"
      ]
     },
     "metadata": {},
     "output_type": "display_data"
    }
   ],
   "source": [
    "mode_rating = df['overall'].mode()[0]  \n",
    "\n",
    "# Plot histogram\n",
    "plt.figure(figsize=(10, 5))\n",
    "sns.histplot(df['overall'], bins=30, kde=True, color='skyblue')\n",
    "\n",
    "# Add vertical line for mode\n",
    "plt.axvline(mode_rating, color='green', linestyle='dashed', linewidth=2, label=f'Mode: {mode_rating}')\n",
    "\n",
    "# Labels and Title\n",
    "plt.xlabel('Player Rating')\n",
    "plt.ylabel('Frequency')\n",
    "plt.title('Distribution of Player Ratings with Mode')\n",
    "plt.legend()"
   ]
  },
  {
   "cell_type": "code",
   "execution_count": 27,
   "id": "a9694fbc",
   "metadata": {},
   "outputs": [
    {
     "name": "stdout",
     "output_type": "stream",
     "text": [
      "Range of Player Ratings: 46\n"
     ]
    },
    {
     "data": {
      "text/plain": [
       "Text(0.5, 0, 'Player Rating')"
      ]
     },
     "execution_count": 27,
     "metadata": {},
     "output_type": "execute_result"
    },
    {
     "data": {
      "image/png": "[encoded data removed]",
      "text/plain": [
       "<Figure size 1500x1000 with 4 Axes>"
      ]
     },
     "metadata": {},
     "output_type": "display_data"
    }
   ],
   "source": [
    "#theory :Range=Max Value−Min Value\n",
    "\n",
    "range_value = df['overall'].max() - df['overall'].min()\n",
    "print(\"Range of Player Ratings:\", range_value)\n",
    "fig, axes = plt.subplots(2, 2, figsize=(15, 10))\n",
    "sns.boxplot(x=df['overall'], color='lightblue', ax=axes[0, 0])\n",
    "axes[0, 0].set_title(\"Boxplot of Player Ratings (IQR & Range)\")\n",
    "axes[0, 0].set_xlabel(\"Player Rating\")"
   ]
  },
  {
   "cell_type": "code",
   "execution_count": 25,
   "id": "1340202a",
   "metadata": {},
   "outputs": [
    {
     "name": "stdout",
     "output_type": "stream",
     "text": [
      "Variance of Player Ratings: 47.33758558801227\n"
     ]
    }
   ],
   "source": [
    "# Variance :Variance tells us how far the ratings are from the average in squared units.\n",
    "#σ^2= ∑[(x i−μ)^2]/N\n",
    " \n",
    "variance_value = df['overall'].var()\n",
    "print(\"Variance of Player Ratings:\", variance_value)\n",
    "\n"
   ]
  },
  {
   "cell_type": "code",
   "execution_count": 28,
   "id": "4ed03e40",
   "metadata": {},
   "outputs": [
    {
     "name": "stdout",
     "output_type": "stream",
     "text": [
      "Standard Deviation of Player Ratings: 6.880231506861689\n"
     ]
    }
   ],
   "source": [
    "std_dev = df['overall'].std()\n",
    "print(\"Standard Deviation of Player Ratings:\", std_dev)\n"
   ]
  },
  {
   "cell_type": "code",
   "execution_count": 29,
   "id": "aeca371d",
   "metadata": {},
   "outputs": [
    {
     "name": "stdout",
     "output_type": "stream",
     "text": [
      "Interquartile Range (IQR): 9.0\n"
     ]
    }
   ],
   "source": [
    "Q1 = df['overall'].quantile(0.25)\n",
    "Q3 = df['overall'].quantile(0.75)\n",
    "IQR = Q3 - Q1\n",
    "print(\"Interquartile Range (IQR):\", IQR)\n"
   ]
  },
  {
   "cell_type": "code",
   "execution_count": null,
   "id": "fac6ae30",
   "metadata": {},
   "outputs": [],
   "source": []
  }
 ],
 "metadata": {
  "kernelspec": {
   "display_name": "Python 3 (ipykernel)",
   "language": "python",
   "name": "python3"
  },
  "language_info": {
   "codemirror_mode": {
    "name": "ipython",
    "version": 3
   },
   "file_extension": ".py",
   "mimetype": "text/x-python",
   "name": "python",
   "nbconvert_exporter": "python",
   "pygments_lexer": "ipython3",
   "version": "3.7.6"
  }
 },
 "nbformat": 4,
 "nbformat_minor": 5
}
